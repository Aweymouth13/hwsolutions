{
 "cells": [
  {
   "cell_type": "markdown",
   "metadata": {},
   "source": [
    "# HW2 Python Solutions\n",
    "\n",
    "## Problem 2: Coherent States of the Quantum Harmonic Oscillator (QHO)\n",
    "\n",
    "- We want to study coherent states of the quantum harmonic oscillator (QHO) and assume the system has the initial wavefunction psi(x, 0) = phi_0(x - x_0), where x_0 is a constant representing the displacement of the Gaussian ground-state waveform from the origin.\n",
    "\n",
    "- We need to:\n",
    "\n",
    "  - **(a)** Plot the wavefunction by choosing x_0 = sqrt(hbar * m * omega).  \n",
    "  - **(b)** Calculate the overlap integrals (c_n = <n|psi(0)>) necessary to express the initial wavefunction in terms of energy eigenstates. We will do this for the first 10 energy levels. Compare the results to:\n",
    "\n",
    "    c_0 = (alpha^n / sqrt(n!)) * exp(-alpha^2 / 2)\n",
    "\n",
    "    where alpha = x_0 * sqrt(m * omega / (2 * hbar)). Check whether the first 10 terms are enough to properly represent the wavefunction and explain.\n",
    "\n",
    "  - **(c)** Calculate the expectation value of energy.\n",
    "  \n",
    "  - **(d)** Construct the time-dependent wavefunction, animate thefunctiontion, and describe its time evolution.\n",
    "  \n",
    "  - **(e)** Writefunctiontions to generalize the solution: As x_0 = 4 * sqrt(hbar * m * omega) given hint we may need to use more than 10 terms.\n"
   ]
  },
  {
   "cell_type": "code",
   "execution_count": 9,
   "metadata": {},
   "outputs": [
    {
     "ename": "SyntaxError",
     "evalue": "f-string: single '}' is not allowed (2394090338.py, line 5)",
     "output_type": "error",
     "traceback": [
      "\u001b[0;36m  Cell \u001b[0;32mIn[9], line 5\u001b[0;36m\u001b[0m\n\u001b[0;31m    display(Image(filename=f'p_statement/p6_i}.png'))\u001b[0m\n\u001b[0m                                             ^\u001b[0m\n\u001b[0;31mSyntaxError\u001b[0m\u001b[0;31m:\u001b[0m f-string: single '}' is not allowed\n"
     ]
    }
   ],
   "source": [
    "from IPython.display import Image\n",
    "\n",
    "#display screenshots\n",
    "for i in range(1, 3):\n",
    "    display(Image(filename=f'p_statement/p6_i}.png'))"
   ]
  },
  {
   "cell_type": "markdown",
   "metadata": {},
   "source": []
  },
  {
   "cell_type": "code",
   "execution_count": 8,
   "metadata": {},
   "outputs": [],
   "source": [
    "#function to calculate the initial wavefunction\n",
    "def initial_wavefunction(x, x_0, m, omega, hbar):\n",
    "    \"\"\"\n",
    "    calculate the initial wavefunction psi(x, 0) for a coherent state.\n",
    "    Args: x (array), x_0 (float), m (float), omega (float), hbar (float)\n",
    "    Returns: psi (array)\n",
    "    \"\"\"\n",
    "\n",
    "#function to plot the wavefunction\n",
    "def plot_wavefunction(x, wavefunction):\n",
    "    \"\"\"\n",
    "    plot the wavefunction as a function of x.\n",
    "    Args: x (array), wavefunction (array)\n",
    "    Returns: None\n",
    "    \"\"\"\n",
    "\n",
    "#function to compute overlap integrals\n",
    "def overlap_integrals(n_max, x_0, m, omega, hbar):\n",
    "    \"\"\"\n",
    "    calculate overlap integrals for the first n_max energy levels.\n",
    "    Args: n_max (int), x_0 (float), m (float), omega (float), hbar (float)\n",
    "    Returns: c_n (array)\n",
    "    \"\"\"\n",
    "\n",
    "#function to compute expectation value of energy\n",
    "def expectation_value_energy(c_n, energy_levels):\n",
    "    \"\"\"\n",
    "    compute the expectation value of energy for the coherent state.\n",
    "    Args: c_n (array), energy_levels (array)\n",
    "    Returns: E (float)\n",
    "    \"\"\"\n",
    "\n",
    "#function to construct time-dependent wavefunction\n",
    "def time_dependent_wavefunction(x, t, c_n, omega, hbar):\n",
    "    \"\"\"\n",
    "    construct the time-dependent wavefunction psi(x, t).\n",
    "    Args: x (array), t (float), c_n (array), omega (float), hbar (float)\n",
    "    Returns: psi_t (array)\n",
    "    \"\"\"\n",
    "\n",
    "#function to animate the wavefunction\n",
    "def animate_wavefunction(x, time_steps, c_n, omega, hbar):\n",
    "    \"\"\"\n",
    "    animate the time evolution of the wavefunction.\n",
    "    Args: x (array), time_steps (array), c_n (array), omega (float), hbar (float)\n",
    "    Returns: None\n",
    "    \"\"\"\n",
    "\n",
    "#function to generalize for different x_0 and calculate more terms\n",
    "def generalized_wavefunction(x_0, n_max, m, omega, hbar):\n",
    "    \"\"\"\n",
    "    generalize wavefunction for different x_0 and n_max values.\n",
    "    Args: x_0 (float), n_max (int), m (float), omega (float), hbar (float)\n",
    "    Returns: wavefunction (array)\n",
    "    \"\"\"\n",
    "\n",
    "#function to compute the nth hermite poly\n",
    "def hermite_polynomial(n, x):\n",
    "    \"\"\"\n",
    "    compute the Hermite polynomial H_n(x).\n",
    "    Args: n (int), x (array)\n",
    "    Returns: H_n (array)\n",
    "    \"\"\"\n",
    "\n",
    "#get the first n_max energy level\n",
    "def energy_levels(n_max, hbar, omega):\n",
    "    \"\"\"\n",
    "    Compute the first n_max energy levels.\n",
    "    Args: n_max (int), hbar (float), omega (float)\n",
    "    Returns: energy_levels (array)\n",
    "    \"\"\"\n",
    "\n",
    "#function to check normaliztion = 1 for validity\n",
    "def check_normalization(c_n):\n",
    "    \"\"\"\n",
    "    check if the sum of squared coefficients approximately equals 1.\n",
    "    Args: c_n (array)\n",
    "    Returns: bool\n",
    "    \"\"\"\n",
    "\n",
    "\n"
   ]
  },
  {
   "cell_type": "code",
   "execution_count": null,
   "metadata": {},
   "outputs": [],
   "source": []
  }
 ],
 "metadata": {
  "kernelspec": {
   "display_name": "Python 3",
   "language": "python",
   "name": "python3"
  },
  "language_info": {
   "codemirror_mode": {
    "name": "ipython",
    "version": 3
   },
   "file_extension": ".py",
   "mimetype": "text/x-python",
   "name": "python",
   "nbconvert_exporter": "python",
   "pygments_lexer": "ipython3",
   "version": "3.12.1"
  }
 },
 "nbformat": 4,
 "nbformat_minor": 2
}
