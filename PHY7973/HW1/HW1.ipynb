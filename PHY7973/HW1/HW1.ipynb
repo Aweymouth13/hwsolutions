{
 "cells": [
  {
   "cell_type": "code",
   "execution_count": 1,
   "id": "3de05bdc",
   "metadata": {},
   "outputs": [],
   "source": [
    "import numpy as np\n",
    "import sympy as sp\n",
    "import matplotlib.pyplot as plt\n",
    "import matplotlib.style as style\n",
    "import os\n",
    "import glob\n",
    "import shutil\n",
    "import pandas as pd\n",
    "\n",
    "\n",
    "style.use('dark_background')\n",
    "plt.rcParams['text.usetex'] = False\n",
    "\n",
    "\n",
    "\n",
    "#display screenshots\n",
    "#for i in range(1, 3):\n",
    "    #display(Image(filename=f'p_statement/p{i}.jpg'))\n",
    "\n",
    "#file moving for housekeeping\n",
    "def move_plots():\n",
    "    output_dir = 'graphs'\n",
    "    if not os.path.exists(output_dir):\n",
    "        os.makedirs(output_dir)\n",
    "\n",
    "    #all gif and png\n",
    "    files_to_move = glob.glob('*.png') + glob.glob('*.gif')\n",
    "\n",
    "    for file in files_to_move:\n",
    "        destination = os.path.join(output_dir, file)\n",
    "\n",
    "        #if exists, replace\n",
    "        if os.path.exists(destination):\n",
    "            os.remove(destination)\n",
    "\n",
    "        #move it\n",
    "        shutil.move(file, destination)\n",
    "        print(f'Moved {file} to {output_dir}')"
   ]
  },
  {
   "cell_type": "code",
   "execution_count": null,
   "id": "cf1ccd6a",
   "metadata": {},
   "outputs": [],
   "source": []
  }
 ],
 "metadata": {
  "kernelspec": {
   "display_name": "Python 3",
   "language": "python",
   "name": "python3"
  },
  "language_info": {
   "codemirror_mode": {
    "name": "ipython",
    "version": 3
   },
   "file_extension": ".py",
   "mimetype": "text/x-python",
   "name": "python",
   "nbconvert_exporter": "python",
   "pygments_lexer": "ipython3",
   "version": "3.12.1"
  }
 },
 "nbformat": 4,
 "nbformat_minor": 5
}
