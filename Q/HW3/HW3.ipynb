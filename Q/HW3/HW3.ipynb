{
 "cells": [
  {
   "cell_type": "code",
   "execution_count": null,
   "metadata": {
    "vscode": {
     "languageId": "plaintext"
    }
   },
   "outputs": [],
   "source": [
    "from IPython.display import Image\n",
    "import numpy as np\n",
    "import sympy as sp\n",
    "import matplotlib.pyplot as plt\n",
    "import matplotlib.animation as animation\n",
    "from scipy.special import hermite, factorial, eval_hermite\n",
    "import os\n",
    "import glob\n",
    "import shutil\n",
    "import matplotlib.style as style\n",
    "style.use('dark_background')\n",
    "plt.rcParams['text.usetex'] = False\n",
    "\n",
    "\n",
    "#display screenshots\n",
    "for i in range(1, 3):\n",
    "    display(Image(filename=f'p_statement/p{i}.jpeg'))"
   ]
  },
  {
   "cell_type": "code",
   "execution_count": null,
   "metadata": {
    "vscode": {
     "languageId": "plaintext"
    }
   },
   "outputs": [],
   "source": []
  }
 ],
 "metadata": {
  "language_info": {
   "name": "python"
  }
 },
 "nbformat": 4,
 "nbformat_minor": 2
}
