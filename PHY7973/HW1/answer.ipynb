{
 "cells": [
  {
   "cell_type": "code",
   "execution_count": 35,
   "metadata": {
    "execution": {
     "iopub.execute_input": "2025-09-16T20:48:53.408836Z",
     "iopub.status.busy": "2025-09-16T20:48:53.408069Z",
     "iopub.status.idle": "2025-09-16T20:48:54.930090Z",
     "shell.execute_reply": "2025-09-16T20:48:54.929189Z"
    }
   },
   "outputs": [
    {
     "name": "stdout",
     "output_type": "stream",
     "text": [
      "Requirement already satisfied: pdf2image in /usr/local/python/3.12.1/lib/python3.12/site-packages (1.17.0)\n",
      "Requirement already satisfied: pillow in /home/codespace/.local/lib/python3.12/site-packages (from pdf2image) (11.3.0)\n",
      "\n",
      "\u001b[1m[\u001b[0m\u001b[34;49mnotice\u001b[0m\u001b[1;39;49m]\u001b[0m\u001b[39;49m A new release of pip is available: \u001b[0m\u001b[31;49m25.1.1\u001b[0m\u001b[39;49m -> \u001b[0m\u001b[32;49m25.2\u001b[0m\n",
      "\u001b[1m[\u001b[0m\u001b[34;49mnotice\u001b[0m\u001b[1;39;49m]\u001b[0m\u001b[39;49m To update, run: \u001b[0m\u001b[32;49mpython -m pip install --upgrade pip\u001b[0m\n",
      "Note: you may need to restart the kernel to use updated packages.\n"
     ]
    }
   ],
   "source": [
    "%pip install pdf2image\n",
    "\n",
    "from IPython.display import Image\n",
    "import numpy as np\n",
    "import sympy as sp\n",
    "import matplotlib.pyplot as plt\n",
    "import matplotlib.style as style\n",
    "from pdf2image import convert_from_path\n",
    "import os\n",
    "\n",
    "style.use('dark_background')\n",
    "plt.rcParams['text.usetex'] = False"
   ]
  },
  {
   "cell_type": "code",
   "execution_count": 36,
   "metadata": {
    "execution": {
     "iopub.execute_input": "2025-09-16T20:48:55.008174Z",
     "iopub.status.busy": "2025-09-16T20:48:55.006894Z",
     "iopub.status.idle": "2025-09-16T20:48:55.018896Z",
     "shell.execute_reply": "2025-09-16T20:48:55.018055Z"
    }
   },
   "outputs": [
    {
     "name": "stdout",
     "output_type": "stream",
     "text": [
      "initial tape1: ['▷', '0', '1']\n",
      "final tape1: ['▷', '0', '0', '1', '∅']\n",
      "initial tape2: ['▷', '1', '0', '1']\n",
      "final tape2: ['▷', '0', '1', '0', '1', '∅']\n",
      "0 -> 0 values 0 -> 0\n",
      "1 -> 01 values 1 -> 2\n",
      "10 -> 01 values 1 -> 2\n",
      "11 -> 011 values 3 -> 6\n",
      "101 -> 0101 values 5 -> 10\n",
      "111 -> 0111 values 7 -> 14\n",
      "11001 -> 011001 values 19 -> 38\n"
     ]
    }
   ],
   "source": [
    "##problem 1\n",
    "#turing machine rules and simulation\n",
    "rules = {('S','▷'):('I','▷'),('I','0'):('I','0'),('I','1'):('II','0'),('II','0'):('I','1'),('II','1'):('II','1'),('II','∅'):('I','1'),('I','∅'):('F','∅')}\n",
    "\n",
    "def simulate(tape):\n",
    "    tape = tape + ['∅']*10\n",
    "    state='S'\n",
    "    pos=0\n",
    "    step=0\n",
    "    while state!='F' and step<100:\n",
    "        sym = tape[pos]\n",
    "        new_state,new_sym = rules[(state,sym)]\n",
    "        tape[pos] = new_sym\n",
    "        state = new_state\n",
    "        pos += 1\n",
    "        step += 1\n",
    "    return tape\n",
    "\n",
    "#initial tapes from problem statement\n",
    "tape1 = ['▷','0','1']\n",
    "tape2 = ['▷','1','0','1']\n",
    "res1 = simulate(tape1.copy())\n",
    "res2 = simulate(tape2.copy())\n",
    "print('initial tape1:', tape1)\n",
    "print('final tape1:', res1[:5])\n",
    "print('initial tape2:', tape2)\n",
    "print('final tape2:', res2[:6])\n",
    "\n",
    "#verify operation on a range of binary strings\n",
    "def trim_out(t):\n",
    "    out=[]\n",
    "    for s in t[1:]:\n",
    "        if s=='∅':\n",
    "            break\n",
    "        out.append(s)\n",
    "    return ''.join(out)\n",
    "\n",
    "def val_rev(bits):\n",
    "    v=0\n",
    "    for i,b in enumerate(bits):\n",
    "        v += int(b)*(2**i)\n",
    "    return v\n",
    "\n",
    "#i already posited in my solutions\n",
    "#ifi show doubling behaviour for numbers interpreted with lsb at left, then i'm not crazy\n",
    "for bits in ['0','1','10','11','101','111','11001']:\n",
    "    t = ['▷'] + list(bits)\n",
    "    out = trim_out(simulate(t.copy()))\n",
    "    print(bits, '->', out, 'values', val_rev(bits), '->', val_rev(out))"
   ]
  },
  {
   "cell_type": "code",
   "execution_count": 37,
   "metadata": {
    "execution": {
     "iopub.execute_input": "2025-09-16T20:48:55.022428Z",
     "iopub.status.busy": "2025-09-16T20:48:55.021774Z",
     "iopub.status.idle": "2025-09-16T20:48:55.250276Z",
     "shell.execute_reply": "2025-09-16T20:48:55.249435Z"
    }
   },
   "outputs": [
    {
     "data": {
      "text/latex": [
       "$\\displaystyle \\eta^{n} \\left(1 - \\eta\\right)^{N - n} {\\binom{N}{n}}$"
      ],
      "text/plain": [
       "eta**n*(1 - eta)**(N - n)*binomial(N, n)"
      ]
     },
     "metadata": {},
     "output_type": "display_data"
    }
   ],
   "source": [
    "##problem 2 part a\n",
    "#define symbols\n",
    "n,N,eta = sp.symbols('n N eta', integer=True, positive=True)\n",
    "#p(n|N) for detector efficiency\n",
    "P_n_given_N = sp.factorial(N)/(sp.factorial(n)*sp.factorial(N-n)) * eta**n * (1-eta)**(N-n)\n",
    "display(P_n_given_N.simplify())"
   ]
  },
  {
   "cell_type": "code",
   "execution_count": 38,
   "metadata": {
    "execution": {
     "iopub.execute_input": "2025-09-16T20:48:55.254308Z",
     "iopub.status.busy": "2025-09-16T20:48:55.253440Z",
     "iopub.status.idle": "2025-09-16T20:48:55.544053Z",
     "shell.execute_reply": "2025-09-16T20:48:55.543236Z"
    }
   },
   "outputs": [
    {
     "data": {
      "text/latex": [
       "$\\displaystyle \\frac{\\left(- \\lambda \\left(\\eta - 1\\right)\\right)^{N - n} e^{\\lambda \\left(\\eta - 1\\right)}}{\\left(N - n\\right)!}$"
      ],
      "text/plain": [
       "(-lambda*(eta - 1))**(N - n)*exp(lambda*(eta - 1))/factorial(N - n)"
      ]
     },
     "metadata": {},
     "output_type": "display_data"
    },
    {
     "ename": "ValueError",
     "evalue": "could not broadcast input array from shape (0,) into shape (15,)",
     "output_type": "error",
     "traceback": [
      "\u001b[31m---------------------------------------------------------------------------\u001b[39m",
      "\u001b[31mValueError\u001b[39m                                Traceback (most recent call last)",
      "\u001b[36mCell\u001b[39m\u001b[36m \u001b[39m\u001b[32mIn[38]\u001b[39m\u001b[32m, line 16\u001b[39m\n\u001b[32m     14\u001b[39m \u001b[38;5;28;01mif\u001b[39;00m N_vals.size > \u001b[32m0\u001b[39m:\n\u001b[32m     15\u001b[39m     plt.figure(figsize=(\u001b[32m8\u001b[39m,\u001b[32m5\u001b[39m))\n\u001b[32m---> \u001b[39m\u001b[32m16\u001b[39m     \u001b[43mplt\u001b[49m\u001b[43m.\u001b[49m\u001b[43mstem\u001b[49m\u001b[43m(\u001b[49m\u001b[43mN_vals\u001b[49m\u001b[43m,\u001b[49m\u001b[43m \u001b[49m\u001b[43mp_vals\u001b[49m\u001b[43m,\u001b[49m\u001b[43m \u001b[49m\u001b[43mbasefmt\u001b[49m\u001b[43m=\u001b[49m\u001b[33;43m'\u001b[39;49m\u001b[33;43m \u001b[39;49m\u001b[33;43m'\u001b[39;49m\u001b[43m)\u001b[49m\n\u001b[32m     17\u001b[39m     plt.xlabel(\u001b[33m'\u001b[39m\u001b[33mN\u001b[39m\u001b[33m'\u001b[39m)\n\u001b[32m     18\u001b[39m     plt.ylabel(\u001b[33m'\u001b[39m\u001b[33mP(N|n)\u001b[39m\u001b[33m'\u001b[39m)\n",
      "\u001b[36mFile \u001b[39m\u001b[32m~/.local/lib/python3.12/site-packages/matplotlib/pyplot.py:4085\u001b[39m, in \u001b[36mstem\u001b[39m\u001b[34m(linefmt, markerfmt, basefmt, bottom, label, orientation, data, *args)\u001b[39m\n\u001b[32m   4074\u001b[39m \u001b[38;5;129m@_copy_docstring_and_deprecators\u001b[39m(Axes.stem)\n\u001b[32m   4075\u001b[39m \u001b[38;5;28;01mdef\u001b[39;00m\u001b[38;5;250m \u001b[39m\u001b[34mstem\u001b[39m(\n\u001b[32m   4076\u001b[39m     *args: ArrayLike | \u001b[38;5;28mstr\u001b[39m,\n\u001b[32m   (...)\u001b[39m\u001b[32m   4083\u001b[39m     data=\u001b[38;5;28;01mNone\u001b[39;00m,\n\u001b[32m   4084\u001b[39m ) -> StemContainer:\n\u001b[32m-> \u001b[39m\u001b[32m4085\u001b[39m     \u001b[38;5;28;01mreturn\u001b[39;00m \u001b[43mgca\u001b[49m\u001b[43m(\u001b[49m\u001b[43m)\u001b[49m\u001b[43m.\u001b[49m\u001b[43mstem\u001b[49m\u001b[43m(\u001b[49m\n\u001b[32m   4086\u001b[39m \u001b[43m        \u001b[49m\u001b[43m*\u001b[49m\u001b[43margs\u001b[49m\u001b[43m,\u001b[49m\n\u001b[32m   4087\u001b[39m \u001b[43m        \u001b[49m\u001b[43mlinefmt\u001b[49m\u001b[43m=\u001b[49m\u001b[43mlinefmt\u001b[49m\u001b[43m,\u001b[49m\n\u001b[32m   4088\u001b[39m \u001b[43m        \u001b[49m\u001b[43mmarkerfmt\u001b[49m\u001b[43m=\u001b[49m\u001b[43mmarkerfmt\u001b[49m\u001b[43m,\u001b[49m\n\u001b[32m   4089\u001b[39m \u001b[43m        \u001b[49m\u001b[43mbasefmt\u001b[49m\u001b[43m=\u001b[49m\u001b[43mbasefmt\u001b[49m\u001b[43m,\u001b[49m\n\u001b[32m   4090\u001b[39m \u001b[43m        \u001b[49m\u001b[43mbottom\u001b[49m\u001b[43m=\u001b[49m\u001b[43mbottom\u001b[49m\u001b[43m,\u001b[49m\n\u001b[32m   4091\u001b[39m \u001b[43m        \u001b[49m\u001b[43mlabel\u001b[49m\u001b[43m=\u001b[49m\u001b[43mlabel\u001b[49m\u001b[43m,\u001b[49m\n\u001b[32m   4092\u001b[39m \u001b[43m        \u001b[49m\u001b[43morientation\u001b[49m\u001b[43m=\u001b[49m\u001b[43morientation\u001b[49m\u001b[43m,\u001b[49m\n\u001b[32m   4093\u001b[39m \u001b[43m        \u001b[49m\u001b[43m*\u001b[49m\u001b[43m*\u001b[49m\u001b[43m(\u001b[49m\u001b[43m{\u001b[49m\u001b[33;43m\"\u001b[39;49m\u001b[33;43mdata\u001b[39;49m\u001b[33;43m\"\u001b[39;49m\u001b[43m:\u001b[49m\u001b[43m \u001b[49m\u001b[43mdata\u001b[49m\u001b[43m}\u001b[49m\u001b[43m \u001b[49m\u001b[38;5;28;43;01mif\u001b[39;49;00m\u001b[43m \u001b[49m\u001b[43mdata\u001b[49m\u001b[43m \u001b[49m\u001b[38;5;129;43;01mis\u001b[39;49;00m\u001b[43m \u001b[49m\u001b[38;5;129;43;01mnot\u001b[39;49;00m\u001b[43m \u001b[49m\u001b[38;5;28;43;01mNone\u001b[39;49;00m\u001b[43m \u001b[49m\u001b[38;5;28;43;01melse\u001b[39;49;00m\u001b[43m \u001b[49m\u001b[43m{\u001b[49m\u001b[43m}\u001b[49m\u001b[43m)\u001b[49m\u001b[43m,\u001b[49m\n\u001b[32m   4094\u001b[39m \u001b[43m    \u001b[49m\u001b[43m)\u001b[49m\n",
      "\u001b[36mFile \u001b[39m\u001b[32m~/.local/lib/python3.12/site-packages/matplotlib/__init__.py:1521\u001b[39m, in \u001b[36m_preprocess_data.<locals>.inner\u001b[39m\u001b[34m(ax, data, *args, **kwargs)\u001b[39m\n\u001b[32m   1518\u001b[39m \u001b[38;5;129m@functools\u001b[39m.wraps(func)\n\u001b[32m   1519\u001b[39m \u001b[38;5;28;01mdef\u001b[39;00m\u001b[38;5;250m \u001b[39m\u001b[34minner\u001b[39m(ax, *args, data=\u001b[38;5;28;01mNone\u001b[39;00m, **kwargs):\n\u001b[32m   1520\u001b[39m     \u001b[38;5;28;01mif\u001b[39;00m data \u001b[38;5;129;01mis\u001b[39;00m \u001b[38;5;28;01mNone\u001b[39;00m:\n\u001b[32m-> \u001b[39m\u001b[32m1521\u001b[39m         \u001b[38;5;28;01mreturn\u001b[39;00m \u001b[43mfunc\u001b[49m\u001b[43m(\u001b[49m\n\u001b[32m   1522\u001b[39m \u001b[43m            \u001b[49m\u001b[43max\u001b[49m\u001b[43m,\u001b[49m\n\u001b[32m   1523\u001b[39m \u001b[43m            \u001b[49m\u001b[43m*\u001b[49m\u001b[38;5;28;43mmap\u001b[39;49m\u001b[43m(\u001b[49m\u001b[43mcbook\u001b[49m\u001b[43m.\u001b[49m\u001b[43msanitize_sequence\u001b[49m\u001b[43m,\u001b[49m\u001b[43m \u001b[49m\u001b[43margs\u001b[49m\u001b[43m)\u001b[49m\u001b[43m,\u001b[49m\n\u001b[32m   1524\u001b[39m \u001b[43m            \u001b[49m\u001b[43m*\u001b[49m\u001b[43m*\u001b[49m\u001b[43m{\u001b[49m\u001b[43mk\u001b[49m\u001b[43m:\u001b[49m\u001b[43m \u001b[49m\u001b[43mcbook\u001b[49m\u001b[43m.\u001b[49m\u001b[43msanitize_sequence\u001b[49m\u001b[43m(\u001b[49m\u001b[43mv\u001b[49m\u001b[43m)\u001b[49m\u001b[43m \u001b[49m\u001b[38;5;28;43;01mfor\u001b[39;49;00m\u001b[43m \u001b[49m\u001b[43mk\u001b[49m\u001b[43m,\u001b[49m\u001b[43m \u001b[49m\u001b[43mv\u001b[49m\u001b[43m \u001b[49m\u001b[38;5;129;43;01min\u001b[39;49;00m\u001b[43m \u001b[49m\u001b[43mkwargs\u001b[49m\u001b[43m.\u001b[49m\u001b[43mitems\u001b[49m\u001b[43m(\u001b[49m\u001b[43m)\u001b[49m\u001b[43m}\u001b[49m\u001b[43m)\u001b[49m\n\u001b[32m   1526\u001b[39m     bound = new_sig.bind(ax, *args, **kwargs)\n\u001b[32m   1527\u001b[39m     auto_label = (bound.arguments.get(label_namer)\n\u001b[32m   1528\u001b[39m                   \u001b[38;5;129;01mor\u001b[39;00m bound.kwargs.get(label_namer))\n",
      "\u001b[36mFile \u001b[39m\u001b[32m~/.local/lib/python3.12/site-packages/matplotlib/axes/_axes.py:3204\u001b[39m, in \u001b[36mAxes.stem\u001b[39m\u001b[34m(self, linefmt, markerfmt, basefmt, bottom, label, orientation, *args)\u001b[39m\n\u001b[32m   3202\u001b[39m     linestyle = mpl.rcParams[\u001b[33m'\u001b[39m\u001b[33mlines.linestyle\u001b[39m\u001b[33m'\u001b[39m]\n\u001b[32m   3203\u001b[39m xlines = \u001b[38;5;28mself\u001b[39m.vlines \u001b[38;5;28;01mif\u001b[39;00m orientation == \u001b[33m\"\u001b[39m\u001b[33mvertical\u001b[39m\u001b[33m\"\u001b[39m \u001b[38;5;28;01melse\u001b[39;00m \u001b[38;5;28mself\u001b[39m.hlines\n\u001b[32m-> \u001b[39m\u001b[32m3204\u001b[39m stemlines = \u001b[43mxlines\u001b[49m\u001b[43m(\u001b[49m\n\u001b[32m   3205\u001b[39m \u001b[43m    \u001b[49m\u001b[43mlocs\u001b[49m\u001b[43m,\u001b[49m\u001b[43m \u001b[49m\u001b[43mbottom\u001b[49m\u001b[43m,\u001b[49m\u001b[43m \u001b[49m\u001b[43mheads\u001b[49m\u001b[43m,\u001b[49m\n\u001b[32m   3206\u001b[39m \u001b[43m    \u001b[49m\u001b[43mcolors\u001b[49m\u001b[43m=\u001b[49m\u001b[43mlinecolor\u001b[49m\u001b[43m,\u001b[49m\u001b[43m \u001b[49m\u001b[43mlinestyles\u001b[49m\u001b[43m=\u001b[49m\u001b[43mlinestyle\u001b[49m\u001b[43m,\u001b[49m\u001b[43m \u001b[49m\u001b[43mlabel\u001b[49m\u001b[43m=\u001b[49m\u001b[33;43m\"\u001b[39;49m\u001b[33;43m_nolegend_\u001b[39;49m\u001b[33;43m\"\u001b[39;49m\u001b[43m)\u001b[49m\n\u001b[32m   3208\u001b[39m \u001b[38;5;28;01mif\u001b[39;00m orientation == \u001b[33m'\u001b[39m\u001b[33mhorizontal\u001b[39m\u001b[33m'\u001b[39m:\n\u001b[32m   3209\u001b[39m     marker_x = heads\n",
      "\u001b[36mFile \u001b[39m\u001b[32m~/.local/lib/python3.12/site-packages/matplotlib/_api/deprecation.py:453\u001b[39m, in \u001b[36mmake_keyword_only.<locals>.wrapper\u001b[39m\u001b[34m(*args, **kwargs)\u001b[39m\n\u001b[32m    447\u001b[39m \u001b[38;5;28;01mif\u001b[39;00m \u001b[38;5;28mlen\u001b[39m(args) > name_idx:\n\u001b[32m    448\u001b[39m     warn_deprecated(\n\u001b[32m    449\u001b[39m         since, message=\u001b[33m\"\u001b[39m\u001b[33mPassing the \u001b[39m\u001b[38;5;132;01m%(name)s\u001b[39;00m\u001b[33m \u001b[39m\u001b[38;5;132;01m%(obj_type)s\u001b[39;00m\u001b[33m \u001b[39m\u001b[33m\"\u001b[39m\n\u001b[32m    450\u001b[39m         \u001b[33m\"\u001b[39m\u001b[33mpositionally is deprecated since Matplotlib \u001b[39m\u001b[38;5;132;01m%(since)s\u001b[39;00m\u001b[33m; the \u001b[39m\u001b[33m\"\u001b[39m\n\u001b[32m    451\u001b[39m         \u001b[33m\"\u001b[39m\u001b[33mparameter will become keyword-only in \u001b[39m\u001b[38;5;132;01m%(removal)s\u001b[39;00m\u001b[33m.\u001b[39m\u001b[33m\"\u001b[39m,\n\u001b[32m    452\u001b[39m         name=name, obj_type=\u001b[33mf\u001b[39m\u001b[33m\"\u001b[39m\u001b[33mparameter of \u001b[39m\u001b[38;5;132;01m{\u001b[39;00mfunc.\u001b[34m__name__\u001b[39m\u001b[38;5;132;01m}\u001b[39;00m\u001b[33m()\u001b[39m\u001b[33m\"\u001b[39m)\n\u001b[32m--> \u001b[39m\u001b[32m453\u001b[39m \u001b[38;5;28;01mreturn\u001b[39;00m \u001b[43mfunc\u001b[49m\u001b[43m(\u001b[49m\u001b[43m*\u001b[49m\u001b[43margs\u001b[49m\u001b[43m,\u001b[49m\u001b[43m \u001b[49m\u001b[43m*\u001b[49m\u001b[43m*\u001b[49m\u001b[43mkwargs\u001b[49m\u001b[43m)\u001b[49m\n",
      "\u001b[36mFile \u001b[39m\u001b[32m~/.local/lib/python3.12/site-packages/matplotlib/__init__.py:1521\u001b[39m, in \u001b[36m_preprocess_data.<locals>.inner\u001b[39m\u001b[34m(ax, data, *args, **kwargs)\u001b[39m\n\u001b[32m   1518\u001b[39m \u001b[38;5;129m@functools\u001b[39m.wraps(func)\n\u001b[32m   1519\u001b[39m \u001b[38;5;28;01mdef\u001b[39;00m\u001b[38;5;250m \u001b[39m\u001b[34minner\u001b[39m(ax, *args, data=\u001b[38;5;28;01mNone\u001b[39;00m, **kwargs):\n\u001b[32m   1520\u001b[39m     \u001b[38;5;28;01mif\u001b[39;00m data \u001b[38;5;129;01mis\u001b[39;00m \u001b[38;5;28;01mNone\u001b[39;00m:\n\u001b[32m-> \u001b[39m\u001b[32m1521\u001b[39m         \u001b[38;5;28;01mreturn\u001b[39;00m \u001b[43mfunc\u001b[49m\u001b[43m(\u001b[49m\n\u001b[32m   1522\u001b[39m \u001b[43m            \u001b[49m\u001b[43max\u001b[49m\u001b[43m,\u001b[49m\n\u001b[32m   1523\u001b[39m \u001b[43m            \u001b[49m\u001b[43m*\u001b[49m\u001b[38;5;28;43mmap\u001b[39;49m\u001b[43m(\u001b[49m\u001b[43mcbook\u001b[49m\u001b[43m.\u001b[49m\u001b[43msanitize_sequence\u001b[49m\u001b[43m,\u001b[49m\u001b[43m \u001b[49m\u001b[43margs\u001b[49m\u001b[43m)\u001b[49m\u001b[43m,\u001b[49m\n\u001b[32m   1524\u001b[39m \u001b[43m            \u001b[49m\u001b[43m*\u001b[49m\u001b[43m*\u001b[49m\u001b[43m{\u001b[49m\u001b[43mk\u001b[49m\u001b[43m:\u001b[49m\u001b[43m \u001b[49m\u001b[43mcbook\u001b[49m\u001b[43m.\u001b[49m\u001b[43msanitize_sequence\u001b[49m\u001b[43m(\u001b[49m\u001b[43mv\u001b[49m\u001b[43m)\u001b[49m\u001b[43m \u001b[49m\u001b[38;5;28;43;01mfor\u001b[39;49;00m\u001b[43m \u001b[49m\u001b[43mk\u001b[49m\u001b[43m,\u001b[49m\u001b[43m \u001b[49m\u001b[43mv\u001b[49m\u001b[43m \u001b[49m\u001b[38;5;129;43;01min\u001b[39;49;00m\u001b[43m \u001b[49m\u001b[43mkwargs\u001b[49m\u001b[43m.\u001b[49m\u001b[43mitems\u001b[49m\u001b[43m(\u001b[49m\u001b[43m)\u001b[49m\u001b[43m}\u001b[49m\u001b[43m)\u001b[49m\n\u001b[32m   1526\u001b[39m     bound = new_sig.bind(ax, *args, **kwargs)\n\u001b[32m   1527\u001b[39m     auto_label = (bound.arguments.get(label_namer)\n\u001b[32m   1528\u001b[39m                   \u001b[38;5;129;01mor\u001b[39;00m bound.kwargs.get(label_namer))\n",
      "\u001b[36mFile \u001b[39m\u001b[32m~/.local/lib/python3.12/site-packages/matplotlib/axes/_axes.py:1250\u001b[39m, in \u001b[36mAxes.vlines\u001b[39m\u001b[34m(self, x, ymin, ymax, colors, linestyles, label, **kwargs)\u001b[39m\n\u001b[32m   1248\u001b[39m masked_verts[:, \u001b[32m0\u001b[39m, \u001b[32m1\u001b[39m] = ymin\n\u001b[32m   1249\u001b[39m masked_verts[:, \u001b[32m1\u001b[39m, \u001b[32m0\u001b[39m] = x\n\u001b[32m-> \u001b[39m\u001b[32m1250\u001b[39m \u001b[43mmasked_verts\u001b[49m\u001b[43m[\u001b[49m\u001b[43m:\u001b[49m\u001b[43m,\u001b[49m\u001b[43m \u001b[49m\u001b[32;43m1\u001b[39;49m\u001b[43m,\u001b[49m\u001b[43m \u001b[49m\u001b[32;43m1\u001b[39;49m\u001b[43m]\u001b[49m = ymax\n\u001b[32m   1252\u001b[39m lines = mcoll.LineCollection(masked_verts, colors=colors,\n\u001b[32m   1253\u001b[39m                              linestyles=linestyles, label=label)\n\u001b[32m   1254\u001b[39m \u001b[38;5;28mself\u001b[39m.add_collection(lines, autolim=\u001b[38;5;28;01mFalse\u001b[39;00m)\n",
      "\u001b[36mFile \u001b[39m\u001b[32m~/.local/lib/python3.12/site-packages/numpy/_core/_ufunc_config.py:485\u001b[39m, in \u001b[36merrstate.__call__.<locals>.inner\u001b[39m\u001b[34m(*args, **kwargs)\u001b[39m\n\u001b[32m    482\u001b[39m _token = _extobj_contextvar.set(extobj)\n\u001b[32m    483\u001b[39m \u001b[38;5;28;01mtry\u001b[39;00m:\n\u001b[32m    484\u001b[39m     \u001b[38;5;66;03m# Call the original, decorated, function:\u001b[39;00m\n\u001b[32m--> \u001b[39m\u001b[32m485\u001b[39m     \u001b[38;5;28;01mreturn\u001b[39;00m \u001b[43mfunc\u001b[49m\u001b[43m(\u001b[49m\u001b[43m*\u001b[49m\u001b[43margs\u001b[49m\u001b[43m,\u001b[49m\u001b[43m \u001b[49m\u001b[43m*\u001b[49m\u001b[43m*\u001b[49m\u001b[43mkwargs\u001b[49m\u001b[43m)\u001b[49m\n\u001b[32m    486\u001b[39m \u001b[38;5;28;01mfinally\u001b[39;00m:\n\u001b[32m    487\u001b[39m     _extobj_contextvar.reset(_token)\n",
      "\u001b[36mFile \u001b[39m\u001b[32m~/.local/lib/python3.12/site-packages/numpy/ma/core.py:3463\u001b[39m, in \u001b[36mMaskedArray.__setitem__\u001b[39m\u001b[34m(self, indx, value)\u001b[39m\n\u001b[32m   3460\u001b[39m     mval = \u001b[38;5;28mtuple\u001b[39m([\u001b[38;5;28;01mFalse\u001b[39;00m] * \u001b[38;5;28mlen\u001b[39m(_dtype.names))\n\u001b[32m   3461\u001b[39m \u001b[38;5;28;01mif\u001b[39;00m _mask \u001b[38;5;129;01mis\u001b[39;00m nomask:\n\u001b[32m   3462\u001b[39m     \u001b[38;5;66;03m# Set the data, then the mask\u001b[39;00m\n\u001b[32m-> \u001b[39m\u001b[32m3463\u001b[39m     \u001b[43m_data\u001b[49m\u001b[43m[\u001b[49m\u001b[43mindx\u001b[49m\u001b[43m]\u001b[49m = dval\n\u001b[32m   3464\u001b[39m     \u001b[38;5;28;01mif\u001b[39;00m mval \u001b[38;5;129;01mis\u001b[39;00m \u001b[38;5;129;01mnot\u001b[39;00m nomask:\n\u001b[32m   3465\u001b[39m         _mask = \u001b[38;5;28mself\u001b[39m._mask = make_mask_none(\u001b[38;5;28mself\u001b[39m.shape, _dtype)\n",
      "\u001b[31mValueError\u001b[39m: could not broadcast input array from shape (0,) into shape (15,)"
     ]
    },
    {
     "data": {
      "image/png": "[encoded data removed]",
      "text/plain": [
       "<Figure size 800x500 with 1 Axes>"
      ]
     },
     "metadata": {},
     "output_type": "display_data"
    }
   ],
   "source": [
    "##problem 2 part b\n",
    "#poisson prior for total particles\n",
    "lam = sp.symbols('lambda', positive=True)\n",
    "#posterior p(N|n) prop. to p(n|N)*p(N)\n",
    "N_sym = sp.symbols('N', integer=True, nonnegative=True)\n",
    "posterior = sp.exp(-(1-eta)*lam) * ((1-eta)*lam)**(N_sym-n) / sp.factorial(N_sym-n)\n",
    "display(sp.simplify(posterior))\n",
    "\n",
    "#numeric example plot\n",
    "lam_val = 5\n",
    "eta_val = 0.7\n",
    "n_val = 60\n",
    "N_vals = np.arange(n_val, n_val+15)\n",
    "if N_vals.size > 0:\n",
    "    plt.figure(figsize=(8,5))\n",
    "    plt.stem(N_vals, p_vals, basefmt=' ')\n",
    "    plt.xlabel('N')\n",
    "    plt.ylabel('P(N|n)')\n",
    "    plt.title(f'posterior with poisson prior, eta={eta_val}, lambda={lam_val}, n={n_val}')\n",
    "    plt.grid(True)\n",
    "    plt.show()\n",
    "else:\n",
    "    print('N_vals is empty, skipping plot')\n",
    "\n"
   ]
  },
  {
   "cell_type": "code",
   "execution_count": null,
   "metadata": {},
   "outputs": [
    {
     "ename": "ValueError",
     "evalue": "zero-size array to reduction operation minimum which has no identity",
     "output_type": "error",
     "traceback": [
      "\u001b[31m---------------------------------------------------------------------------\u001b[39m",
      "\u001b[31mValueError\u001b[39m                                Traceback (most recent call last)",
      "\u001b[36mCell\u001b[39m\u001b[36m \u001b[39m\u001b[32mIn[33]\u001b[39m\u001b[32m, line 8\u001b[39m\n\u001b[32m      6\u001b[39m p_vals = np.exp(-(\u001b[32m1\u001b[39m-eta_val)*lam_val) * (((\u001b[32m1\u001b[39m-eta_val)*lam_val)**(N_vals-n_val) / factorial(N_vals-n_val))\n\u001b[32m      7\u001b[39m plt.figure(figsize=(\u001b[32m8\u001b[39m,\u001b[32m5\u001b[39m))\n\u001b[32m----> \u001b[39m\u001b[32m8\u001b[39m \u001b[43mplt\u001b[49m\u001b[43m.\u001b[49m\u001b[43mstem\u001b[49m\u001b[43m(\u001b[49m\u001b[43mN_vals\u001b[49m\u001b[43m,\u001b[49m\u001b[43m \u001b[49m\u001b[43mp_vals\u001b[49m\u001b[43m,\u001b[49m\u001b[43m \u001b[49m\u001b[43mbasefmt\u001b[49m\u001b[43m=\u001b[49m\u001b[33;43m'\u001b[39;49m\u001b[33;43m \u001b[39;49m\u001b[33;43m'\u001b[39;49m\u001b[43m)\u001b[49m\n\u001b[32m      9\u001b[39m plt.xlabel(\u001b[33m'\u001b[39m\u001b[33mN\u001b[39m\u001b[33m'\u001b[39m)\n\u001b[32m     10\u001b[39m plt.ylabel(\u001b[33m'\u001b[39m\u001b[33mP(N|n)\u001b[39m\u001b[33m'\u001b[39m)\n",
      "\u001b[36mFile \u001b[39m\u001b[32m~/.local/lib/python3.12/site-packages/matplotlib/pyplot.py:4085\u001b[39m, in \u001b[36mstem\u001b[39m\u001b[34m(linefmt, markerfmt, basefmt, bottom, label, orientation, data, *args)\u001b[39m\n\u001b[32m   4074\u001b[39m \u001b[38;5;129m@_copy_docstring_and_deprecators\u001b[39m(Axes.stem)\n\u001b[32m   4075\u001b[39m \u001b[38;5;28;01mdef\u001b[39;00m\u001b[38;5;250m \u001b[39m\u001b[34mstem\u001b[39m(\n\u001b[32m   4076\u001b[39m     *args: ArrayLike | \u001b[38;5;28mstr\u001b[39m,\n\u001b[32m   (...)\u001b[39m\u001b[32m   4083\u001b[39m     data=\u001b[38;5;28;01mNone\u001b[39;00m,\n\u001b[32m   4084\u001b[39m ) -> StemContainer:\n\u001b[32m-> \u001b[39m\u001b[32m4085\u001b[39m     \u001b[38;5;28;01mreturn\u001b[39;00m \u001b[43mgca\u001b[49m\u001b[43m(\u001b[49m\u001b[43m)\u001b[49m\u001b[43m.\u001b[49m\u001b[43mstem\u001b[49m\u001b[43m(\u001b[49m\n\u001b[32m   4086\u001b[39m \u001b[43m        \u001b[49m\u001b[43m*\u001b[49m\u001b[43margs\u001b[49m\u001b[43m,\u001b[49m\n\u001b[32m   4087\u001b[39m \u001b[43m        \u001b[49m\u001b[43mlinefmt\u001b[49m\u001b[43m=\u001b[49m\u001b[43mlinefmt\u001b[49m\u001b[43m,\u001b[49m\n\u001b[32m   4088\u001b[39m \u001b[43m        \u001b[49m\u001b[43mmarkerfmt\u001b[49m\u001b[43m=\u001b[49m\u001b[43mmarkerfmt\u001b[49m\u001b[43m,\u001b[49m\n\u001b[32m   4089\u001b[39m \u001b[43m        \u001b[49m\u001b[43mbasefmt\u001b[49m\u001b[43m=\u001b[49m\u001b[43mbasefmt\u001b[49m\u001b[43m,\u001b[49m\n\u001b[32m   4090\u001b[39m \u001b[43m        \u001b[49m\u001b[43mbottom\u001b[49m\u001b[43m=\u001b[49m\u001b[43mbottom\u001b[49m\u001b[43m,\u001b[49m\n\u001b[32m   4091\u001b[39m \u001b[43m        \u001b[49m\u001b[43mlabel\u001b[49m\u001b[43m=\u001b[49m\u001b[43mlabel\u001b[49m\u001b[43m,\u001b[49m\n\u001b[32m   4092\u001b[39m \u001b[43m        \u001b[49m\u001b[43morientation\u001b[49m\u001b[43m=\u001b[49m\u001b[43morientation\u001b[49m\u001b[43m,\u001b[49m\n\u001b[32m   4093\u001b[39m \u001b[43m        \u001b[49m\u001b[43m*\u001b[49m\u001b[43m*\u001b[49m\u001b[43m(\u001b[49m\u001b[43m{\u001b[49m\u001b[33;43m\"\u001b[39;49m\u001b[33;43mdata\u001b[39;49m\u001b[33;43m\"\u001b[39;49m\u001b[43m:\u001b[49m\u001b[43m \u001b[49m\u001b[43mdata\u001b[49m\u001b[43m}\u001b[49m\u001b[43m \u001b[49m\u001b[38;5;28;43;01mif\u001b[39;49;00m\u001b[43m \u001b[49m\u001b[43mdata\u001b[49m\u001b[43m \u001b[49m\u001b[38;5;129;43;01mis\u001b[39;49;00m\u001b[43m \u001b[49m\u001b[38;5;129;43;01mnot\u001b[39;49;00m\u001b[43m \u001b[49m\u001b[38;5;28;43;01mNone\u001b[39;49;00m\u001b[43m \u001b[49m\u001b[38;5;28;43;01melse\u001b[39;49;00m\u001b[43m \u001b[49m\u001b[43m{\u001b[49m\u001b[43m}\u001b[49m\u001b[43m)\u001b[49m\u001b[43m,\u001b[49m\n\u001b[32m   4094\u001b[39m \u001b[43m    \u001b[49m\u001b[43m)\u001b[49m\n",
      "\u001b[36mFile \u001b[39m\u001b[32m~/.local/lib/python3.12/site-packages/matplotlib/__init__.py:1521\u001b[39m, in \u001b[36m_preprocess_data.<locals>.inner\u001b[39m\u001b[34m(ax, data, *args, **kwargs)\u001b[39m\n\u001b[32m   1518\u001b[39m \u001b[38;5;129m@functools\u001b[39m.wraps(func)\n\u001b[32m   1519\u001b[39m \u001b[38;5;28;01mdef\u001b[39;00m\u001b[38;5;250m \u001b[39m\u001b[34minner\u001b[39m(ax, *args, data=\u001b[38;5;28;01mNone\u001b[39;00m, **kwargs):\n\u001b[32m   1520\u001b[39m     \u001b[38;5;28;01mif\u001b[39;00m data \u001b[38;5;129;01mis\u001b[39;00m \u001b[38;5;28;01mNone\u001b[39;00m:\n\u001b[32m-> \u001b[39m\u001b[32m1521\u001b[39m         \u001b[38;5;28;01mreturn\u001b[39;00m \u001b[43mfunc\u001b[49m\u001b[43m(\u001b[49m\n\u001b[32m   1522\u001b[39m \u001b[43m            \u001b[49m\u001b[43max\u001b[49m\u001b[43m,\u001b[49m\n\u001b[32m   1523\u001b[39m \u001b[43m            \u001b[49m\u001b[43m*\u001b[49m\u001b[38;5;28;43mmap\u001b[39;49m\u001b[43m(\u001b[49m\u001b[43mcbook\u001b[49m\u001b[43m.\u001b[49m\u001b[43msanitize_sequence\u001b[49m\u001b[43m,\u001b[49m\u001b[43m \u001b[49m\u001b[43margs\u001b[49m\u001b[43m)\u001b[49m\u001b[43m,\u001b[49m\n\u001b[32m   1524\u001b[39m \u001b[43m            \u001b[49m\u001b[43m*\u001b[49m\u001b[43m*\u001b[49m\u001b[43m{\u001b[49m\u001b[43mk\u001b[49m\u001b[43m:\u001b[49m\u001b[43m \u001b[49m\u001b[43mcbook\u001b[49m\u001b[43m.\u001b[49m\u001b[43msanitize_sequence\u001b[49m\u001b[43m(\u001b[49m\u001b[43mv\u001b[49m\u001b[43m)\u001b[49m\u001b[43m \u001b[49m\u001b[38;5;28;43;01mfor\u001b[39;49;00m\u001b[43m \u001b[49m\u001b[43mk\u001b[49m\u001b[43m,\u001b[49m\u001b[43m \u001b[49m\u001b[43mv\u001b[49m\u001b[43m \u001b[49m\u001b[38;5;129;43;01min\u001b[39;49;00m\u001b[43m \u001b[49m\u001b[43mkwargs\u001b[49m\u001b[43m.\u001b[49m\u001b[43mitems\u001b[49m\u001b[43m(\u001b[49m\u001b[43m)\u001b[49m\u001b[43m}\u001b[49m\u001b[43m)\u001b[49m\n\u001b[32m   1526\u001b[39m     bound = new_sig.bind(ax, *args, **kwargs)\n\u001b[32m   1527\u001b[39m     auto_label = (bound.arguments.get(label_namer)\n\u001b[32m   1528\u001b[39m                   \u001b[38;5;129;01mor\u001b[39;00m bound.kwargs.get(label_namer))\n",
      "\u001b[36mFile \u001b[39m\u001b[32m~/.local/lib/python3.12/site-packages/matplotlib/axes/_axes.py:3216\u001b[39m, in \u001b[36mAxes.stem\u001b[39m\u001b[34m(self, linefmt, markerfmt, basefmt, bottom, label, orientation, *args)\u001b[39m\n\u001b[32m   3214\u001b[39m     marker_x = locs\n\u001b[32m   3215\u001b[39m     marker_y = heads\n\u001b[32m-> \u001b[39m\u001b[32m3216\u001b[39m     baseline_x = [\u001b[43mnp\u001b[49m\u001b[43m.\u001b[49m\u001b[43mmin\u001b[49m\u001b[43m(\u001b[49m\u001b[43mlocs\u001b[49m\u001b[43m)\u001b[49m, np.max(locs)]\n\u001b[32m   3217\u001b[39m     baseline_y = [bottom, bottom]\n\u001b[32m   3219\u001b[39m markerline, = \u001b[38;5;28mself\u001b[39m.plot(marker_x, marker_y,\n\u001b[32m   3220\u001b[39m                         color=markercolor, linestyle=markerstyle,\n\u001b[32m   3221\u001b[39m                         marker=markermarker, label=\u001b[33m\"\u001b[39m\u001b[33m_nolegend_\u001b[39m\u001b[33m\"\u001b[39m)\n",
      "\u001b[36mFile \u001b[39m\u001b[32m~/.local/lib/python3.12/site-packages/numpy/_core/fromnumeric.py:3302\u001b[39m, in \u001b[36mmin\u001b[39m\u001b[34m(a, axis, out, keepdims, initial, where)\u001b[39m\n\u001b[32m   3190\u001b[39m \u001b[38;5;129m@array_function_dispatch\u001b[39m(_min_dispatcher)\n\u001b[32m   3191\u001b[39m \u001b[38;5;28;01mdef\u001b[39;00m\u001b[38;5;250m \u001b[39m\u001b[34mmin\u001b[39m(a, axis=\u001b[38;5;28;01mNone\u001b[39;00m, out=\u001b[38;5;28;01mNone\u001b[39;00m, keepdims=np._NoValue, initial=np._NoValue,\n\u001b[32m   3192\u001b[39m         where=np._NoValue):\n\u001b[32m   3193\u001b[39m \u001b[38;5;250m    \u001b[39m\u001b[33;03m\"\"\"\u001b[39;00m\n\u001b[32m   3194\u001b[39m \u001b[33;03m    Return the minimum of an array or minimum along an axis.\u001b[39;00m\n\u001b[32m   3195\u001b[39m \n\u001b[32m   (...)\u001b[39m\u001b[32m   3300\u001b[39m \u001b[33;03m    6\u001b[39;00m\n\u001b[32m   3301\u001b[39m \u001b[33;03m    \"\"\"\u001b[39;00m\n\u001b[32m-> \u001b[39m\u001b[32m3302\u001b[39m     \u001b[38;5;28;01mreturn\u001b[39;00m \u001b[43m_wrapreduction\u001b[49m\u001b[43m(\u001b[49m\u001b[43ma\u001b[49m\u001b[43m,\u001b[49m\u001b[43m \u001b[49m\u001b[43mnp\u001b[49m\u001b[43m.\u001b[49m\u001b[43mminimum\u001b[49m\u001b[43m,\u001b[49m\u001b[43m \u001b[49m\u001b[33;43m'\u001b[39;49m\u001b[33;43mmin\u001b[39;49m\u001b[33;43m'\u001b[39;49m\u001b[43m,\u001b[49m\u001b[43m \u001b[49m\u001b[43maxis\u001b[49m\u001b[43m,\u001b[49m\u001b[43m \u001b[49m\u001b[38;5;28;43;01mNone\u001b[39;49;00m\u001b[43m,\u001b[49m\u001b[43m \u001b[49m\u001b[43mout\u001b[49m\u001b[43m,\u001b[49m\n\u001b[32m   3303\u001b[39m \u001b[43m                          \u001b[49m\u001b[43mkeepdims\u001b[49m\u001b[43m=\u001b[49m\u001b[43mkeepdims\u001b[49m\u001b[43m,\u001b[49m\u001b[43m \u001b[49m\u001b[43minitial\u001b[49m\u001b[43m=\u001b[49m\u001b[43minitial\u001b[49m\u001b[43m,\u001b[49m\u001b[43m \u001b[49m\u001b[43mwhere\u001b[49m\u001b[43m=\u001b[49m\u001b[43mwhere\u001b[49m\u001b[43m)\u001b[49m\n",
      "\u001b[36mFile \u001b[39m\u001b[32m~/.local/lib/python3.12/site-packages/numpy/_core/fromnumeric.py:86\u001b[39m, in \u001b[36m_wrapreduction\u001b[39m\u001b[34m(obj, ufunc, method, axis, dtype, out, **kwargs)\u001b[39m\n\u001b[32m     83\u001b[39m         \u001b[38;5;28;01melse\u001b[39;00m:\n\u001b[32m     84\u001b[39m             \u001b[38;5;28;01mreturn\u001b[39;00m reduction(axis=axis, out=out, **passkwargs)\n\u001b[32m---> \u001b[39m\u001b[32m86\u001b[39m \u001b[38;5;28;01mreturn\u001b[39;00m \u001b[43mufunc\u001b[49m\u001b[43m.\u001b[49m\u001b[43mreduce\u001b[49m\u001b[43m(\u001b[49m\u001b[43mobj\u001b[49m\u001b[43m,\u001b[49m\u001b[43m \u001b[49m\u001b[43maxis\u001b[49m\u001b[43m,\u001b[49m\u001b[43m \u001b[49m\u001b[43mdtype\u001b[49m\u001b[43m,\u001b[49m\u001b[43m \u001b[49m\u001b[43mout\u001b[49m\u001b[43m,\u001b[49m\u001b[43m \u001b[49m\u001b[43m*\u001b[49m\u001b[43m*\u001b[49m\u001b[43mpasskwargs\u001b[49m\u001b[43m)\u001b[49m\n",
      "\u001b[31mValueError\u001b[39m: zero-size array to reduction operation minimum which has no identity"
     ]
    },
    {
     "data": {
      "image/png": "[encoded data removed]",
      "text/plain": [
       "<Figure size 800x500 with 1 Axes>"
      ]
     },
     "metadata": {},
     "output_type": "display_data"
    }
   ],
   "source": [
    "from scipy.special import factorial, comb\n",
    "\n",
    "\n",
    "#numeric posterior using python factorial\n",
    "\n",
    "p_vals = np.exp(-(1-eta_val)*lam_val) * (((1-eta_val)*lam_val)**(N_vals-n_val) / factorial(N_vals-n_val))\n",
    "plt.figure(figsize=(8,5))\n",
    "plt.stem(N_vals, p_vals, basefmt=' ')\n",
    "plt.xlabel('N')\n",
    "plt.ylabel('P(N|n)')\n",
    "plt.title('posterior with poisson prior, eta='+str(eta_val)+', lambda='+str(lam_val)+', n='+str(n_val))\n",
    "plt.grid(True)\n",
    "plt.show()\n",
    "\n",
    "# Posterior with Poisson prior (using numpy/scipy)\n",
    "p_vals = np.exp(-(1-eta_val)*lam_val) * (((1-eta_val)*lam_val)**(N_vals-n_val) / factorial(N_vals-n_val))\n",
    "plt.figure(figsize=(8,5))\n",
    "plt.stem(N_vals, p_vals, basefmt=' ')\n",
    "plt.xlabel('N')\n",
    "plt.ylabel('P(N|n)')\n",
    "plt.title('posterior with poisson prior, eta='+str(eta_val)+', lambda='+str(lam_val)+', n='+str(n_val))\n",
    "plt.grid(True)\n",
    "plt.show()\n",
    "\n",
    "# Uniform prior (using numpy/scipy)\n",
    "N_vals = np.arange(n_val, N_max+1) if n_val <= N_max else np.array([])\n",
    "if N_vals.size > 0:\n",
    "\tcoeff = comb(N_vals, n_val)\n",
    "\tp_unnorm = coeff * eta_val**n_val * (1-eta_val)**(N_vals-n_val)\n",
    "\tp_norm = p_unnorm / np.sum(p_unnorm)\n",
    "\tplt.figure(figsize=(8,5))\n",
    "\tplt.stem(N_vals, p_norm, basefmt=' ')\n",
    "\tplt.xlabel('N')\n",
    "\tplt.ylabel('P(N|n)')\n",
    "\tplt.title('posterior with uniform prior (cutoff '+str(N_max)+'), eta='+str(eta_val)+', n='+str(n_val))\n",
    "\tplt.grid(True)\n",
    "\tplt.show()\n",
    "else:\n",
    "\tprint(\"N_vals is empty: n_val > N_max. No plot generated.\")\n"
   ]
  }
 ],
 "metadata": {
  "kernelspec": {
   "display_name": "Python 3",
   "language": "python",
   "name": "python3"
  },
  "language_info": {
   "codemirror_mode": {
    "name": "ipython",
    "version": 3
   },
   "file_extension": ".py",
   "mimetype": "text/x-python",
   "name": "python",
   "nbconvert_exporter": "python",
   "pygments_lexer": "ipython3",
   "version": "3.12.1"
  }
 },
 "nbformat": 4,
 "nbformat_minor": 2
}
